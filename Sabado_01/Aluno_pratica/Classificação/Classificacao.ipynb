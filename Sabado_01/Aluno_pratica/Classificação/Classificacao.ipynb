{
 "cells": [
  {
   "cell_type": "code",
   "execution_count": null,
   "id": "c7dbc1c6",
   "metadata": {},
   "outputs": [
    {
     "name": "stdout",
     "output_type": "stream",
     "text": [
      "              precision    recall  f1-score   support\n",
      "\n",
      "           0       1.00      1.00      1.00         2\n",
      "           1       1.00      1.00      1.00         1\n",
      "\n",
      "    accuracy                           1.00         3\n",
      "   macro avg       1.00      1.00      1.00         3\n",
      "weighted avg       1.00      1.00      1.00         3\n",
      "\n"
     ]
    }
   ],
   "source": [
    "# Prevendo se um Cliente vai cancelar assinatura\n",
    "\n",
    "\n",
    "import pandas as pd\n",
    "from sklearn.model_selection import train_test_split\n",
    "from sklearn.ensemble import RandomForestClassifier\n",
    "from sklearn.metrics import  classification_report\n",
    "\n",
    "# Dados ficticios\n",
    "# Quando é {} é um dicionário vazio, significa que não há dados reais para treinar o modelo.\n",
    "data = {\n",
    "    \"tempo_de_assinatura\": [1, 12, 5, 24, 3, 8, 15, 2],\n",
    "    \"uso_medio_horas\": [5, 40, 10, 60, 8, 12, 50, 3],\n",
    "    \"suporte_contato\": [2, 0, 1, 0, 3, 1, 0, 4],\n",
    "    \"cancelou\": [1, 0, 0, 0, 1, 0, 0, 1] \n",
    "\n",
    "}\n",
    "\n",
    "df = pd.DataFrame(data)\n",
    "\n",
    "x = df.drop(\"cancelou\", axis=1)  # Características\n",
    "y = df[\"cancelou\"]  # Rótulo\n",
    "\n",
    "# Modelo\n",
    "X_train, X_test, y_train, y_test = train_test_split(x, y, test_size=0.3, random_state=42)\n",
    "modelo = RandomForestClassifier()\n",
    "modelo.fit(X_train, y_train)\n",
    "\n",
    "\n",
    "\n",
    "y_pred = modelo.predict(X_test)\n",
    "print(classification_report(y_test, y_pred))\n",
    "\n",
    "\n",
    "\n",
    "#========================= Mais para estudos aqui =========================\n",
    "\n",
    "# print(\"Dados de entrada:\", data.keys())\n",
    "# \n",
    "# primeira_chave = list(data.keys())[0]\n",
    "# print(f\"Primeira chave: {primeira_chave}\")\n",
    "# \n",
    "# valores_primeira_chave = data[primeira_chave]\n",
    "# print(f\"Valores: {valores_primeira_chave}\")\n",
    "# \n",
    "# valores_segunda_chave = data[list(data.keys())[1]]\n",
    "# print(f\"Valores da segunda chave: {valores_segunda_chave}\")\n",
    "# \n",
    "# valore_terceira_chave = data[\"suporte_contato\"]\n",
    "# print(f\"Valores da terceira chave: {valore_terceira_chave}\")\n",
    "\n",
    "\n"
   ]
  },
  {
   "cell_type": "code",
   "execution_count": 12,
   "id": "6fe25f03",
   "metadata": {},
   "outputs": [],
   "source": [
    "import joblib"
   ]
  },
  {
   "cell_type": "code",
   "execution_count": 13,
   "id": "4770388d",
   "metadata": {},
   "outputs": [
    {
     "name": "stdout",
     "output_type": "stream",
     "text": [
      "Modelo salvo com sucesso em 'classificacao.pkl'\n"
     ]
    }
   ],
   "source": [
    "# Salvar o modelo treinado em um arquivo .pkl\n",
    "joblib.dump(modelo, 'classificacao.pkl')\n",
    "print(\"Modelo salvo com sucesso em 'classificacao.pkl'\")"
   ]
  }
 ],
 "metadata": {
  "kernelspec": {
   "display_name": "Python 3",
   "language": "python",
   "name": "python3"
  },
  "language_info": {
   "codemirror_mode": {
    "name": "ipython",
    "version": 3
   },
   "file_extension": ".py",
   "mimetype": "text/x-python",
   "name": "python",
   "nbconvert_exporter": "python",
   "pygments_lexer": "ipython3",
   "version": "3.12.3"
  }
 },
 "nbformat": 4,
 "nbformat_minor": 5
}
