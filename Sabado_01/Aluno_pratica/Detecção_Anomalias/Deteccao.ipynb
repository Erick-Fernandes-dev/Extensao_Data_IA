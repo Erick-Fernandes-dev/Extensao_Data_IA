{
 "cells": [
  {
   "cell_type": "code",
   "execution_count": 1,
   "id": "dec906f9",
   "metadata": {},
   "outputs": [
    {
     "name": "stdout",
     "output_type": "stream",
     "text": [
      "   valor_transacao  tempo_segundos  anomalia\n",
      "0              100              30         1\n",
      "1              120              35         1\n",
      "2               90              25         1\n",
      "3              110              40         1\n",
      "4             5000               5        -1\n",
      "5              105              32         1\n",
      "6               95              28         1\n",
      "7             8000               3        -1\n"
     ]
    }
   ],
   "source": [
    "# Transações suspeitas\n",
    "\n",
    "import pandas as pd\n",
    "from sklearn.ensemble import IsolationForest\n",
    "\n",
    "\n",
    "# Dados fictícios\n",
    "data = {\n",
    "    \"valor_transacao\": [100, 120, 90, 110, 5000, 105, 95, 8000],\n",
    "    \"tempo_segundos\": [30, 35, 25, 40, 5, 32, 28, 3]\n",
    "}\n",
    "df = pd.DataFrame(data)\n",
    "\n",
    "# Modelo\n",
    "modelo = IsolationForest(contamination=0.25, random_state=42)\n",
    "df[\"anomalia\"] = modelo.fit_predict(df)\n",
    "\n",
    "print(df)  # -1 = anomalia"
   ]
  },
  {
   "cell_type": "code",
   "execution_count": 2,
   "id": "23ef97e4",
   "metadata": {},
   "outputs": [
    {
     "name": "stdout",
     "output_type": "stream",
     "text": [
      "Modelo salvo com sucesso em 'anomalia.pkl'\n"
     ]
    }
   ],
   "source": [
    "import joblib\n",
    "\n",
    "# Salvar o modelo treinado em um arquivo .pkl\n",
    "joblib.dump(modelo, 'anomalia.pkl')\n",
    "print(\"Modelo salvo com sucesso em 'anomalia.pkl'\")"
   ]
  },
  {
   "cell_type": "markdown",
   "id": "665a8f22",
   "metadata": {},
   "source": [
    "O Isolation Forest identifica anomalias (valores fora do padrão) isolando pontos que são diferentes dos demais.\n",
    "\n",
    "**Como funciona no seu exemplo:**\n",
    "\n",
    "1. **Dados:** Você tem transações com valores e tempos. Alguns são normais (ex: 100, 120), outros são muito diferentes (ex: 5000, 8000).\n",
    "\n",
    "2. **Modelo:** O Isolation Forest constrói várias \"árvores\" que separam os dados. Pontos que são isolados rapidamente (com poucas divisões) são considerados anomalias, pois estão longe dos outros.\n",
    "\n",
    "3. **Contaminação:** O parâmetro contamination=0.25 diz ao modelo que cerca de 25% dos dados devem ser tratados como anomalias.\n",
    "\n",
    "4. **Resultado:** O método fit_predict marca cada linha como:\n",
    "   - **1:** normal\n",
    "   - **-1:** anomalia\n",
    "\n",
    "No seu caso, os valores muito altos (5000, 8000) e tempos muito baixos (3, 5) são diferentes dos demais e provavelmente serão marcados como anomalias.\n",
    "\n",
    "**Resumo:**  \n",
    "O modelo procura pontos que se destacam muito dos outros e os marca como anomalias automaticamente."
   ]
  }
 ],
 "metadata": {
  "kernelspec": {
   "display_name": "Python 3",
   "language": "python",
   "name": "python3"
  },
  "language_info": {
   "codemirror_mode": {
    "name": "ipython",
    "version": 3
   },
   "file_extension": ".py",
   "mimetype": "text/x-python",
   "name": "python",
   "nbconvert_exporter": "python",
   "pygments_lexer": "ipython3",
   "version": "3.12.3"
  }
 },
 "nbformat": 4,
 "nbformat_minor": 5
}
