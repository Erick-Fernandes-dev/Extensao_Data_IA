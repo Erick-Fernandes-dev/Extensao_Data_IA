{
 "cells": [
  {
   "cell_type": "code",
   "execution_count": 2,
   "id": "59b14043",
   "metadata": {},
   "outputs": [
    {
     "name": "stdout",
     "output_type": "stream",
     "text": [
      "Tempo estimado (min): 72.16872791519435\n"
     ]
    },
    {
     "name": "stderr",
     "output_type": "stream",
     "text": [
      "/home/elvenworks38/.local/lib/python3.12/site-packages/sklearn/utils/validation.py:2749: UserWarning: X does not have valid feature names, but LinearRegression was fitted with feature names\n",
      "  warnings.warn(\n"
     ]
    }
   ],
   "source": [
    "\n",
    "# Prevendo tempo de entrega\n",
    "\n",
    "import pandas as pd\n",
    "from sklearn.linear_model import LinearRegression\n",
    "\n",
    "# Dados fictícios\n",
    "data = {\n",
    "    \"distancia_km\": [5, 10, 2, 8, 15, 7],\n",
    "    \"peso_kg\": [2, 5, 1, 3, 10, 4],\n",
    "    \"tempo_entrega_min\": [30, 60, 15, 50, 90, 45]\n",
    "}\n",
    "df = pd.DataFrame(data)\n",
    "\n",
    "X = df[[\"distancia_km\", \"peso_kg\"]]\n",
    "y = df[\"tempo_entrega_min\"]\n",
    "\n",
    "# Modelo\n",
    "modelo = LinearRegression()\n",
    "modelo.fit(X, y)\n",
    "\n",
    "# Prevendo entrega de um pacote\n",
    "print(\"Tempo estimado (min):\", modelo.predict([[12, 6]])[0])\n"
   ]
  },
  {
   "cell_type": "code",
   "execution_count": 3,
   "id": "f575ea65",
   "metadata": {},
   "outputs": [
    {
     "name": "stdout",
     "output_type": "stream",
     "text": [
      "Modelo salvo com sucesso em 'modelo_entrega.pkl'\n"
     ]
    }
   ],
   "source": [
    "import joblib\n",
    "\n",
    "# Salvar o modelo treinado em um arquivo .pkl\n",
    "joblib.dump(modelo, 'modelo_entrega.pkl')\n",
    "print(\"Modelo salvo com sucesso em 'modelo_entrega.pkl'\")"
   ]
  }
 ],
 "metadata": {
  "kernelspec": {
   "display_name": "Python 3",
   "language": "python",
   "name": "python3"
  },
  "language_info": {
   "codemirror_mode": {
    "name": "ipython",
    "version": 3
   },
   "file_extension": ".py",
   "mimetype": "text/x-python",
   "name": "python",
   "nbconvert_exporter": "python",
   "pygments_lexer": "ipython3",
   "version": "3.12.3"
  }
 },
 "nbformat": 4,
 "nbformat_minor": 5
}
