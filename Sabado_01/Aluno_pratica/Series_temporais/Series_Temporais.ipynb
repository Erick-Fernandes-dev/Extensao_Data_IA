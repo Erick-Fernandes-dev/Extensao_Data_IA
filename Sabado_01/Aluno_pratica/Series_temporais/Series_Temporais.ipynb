{
 "cells": [
  {
   "cell_type": "code",
   "execution_count": 1,
   "id": "9cf57739",
   "metadata": {},
   "outputs": [
    {
     "name": "stdout",
     "output_type": "stream",
     "text": [
      "2024-05-26    383.447440\n",
      "2024-06-02    386.594814\n",
      "2024-06-09    389.742188\n",
      "2024-06-16    392.889562\n",
      "Freq: W-SUN, dtype: float64\n"
     ]
    }
   ],
   "source": [
    "# Previsão de vendas semanais\n",
    "\n",
    "import pandas as pd\n",
    "import numpy as np\n",
    "from statsmodels.tsa.holtwinters import ExponentialSmoothing\n",
    "\n",
    "# Série de vendas (dados fictícios)\n",
    "np.random.seed(42)\n",
    "semanas = pd.date_range(start=\"2024-01-01\", periods=20, freq=\"W\")\n",
    "vendas = np.random.randint(200, 500, size=20)\n",
    "serie = pd.Series(vendas, index=semanas)\n",
    "\n",
    "# Modelo Holt-Winters\n",
    "modelo = ExponentialSmoothing(serie, trend=\"add\", seasonal=None)\n",
    "modelo_fit = modelo.fit()\n",
    "\n",
    "# Previsão para 4 semanas\n",
    "previsao = modelo_fit.forecast(4)\n",
    "print(previsao)\n"
   ]
  },
  {
   "cell_type": "code",
   "execution_count": 2,
   "id": "1260cd8a",
   "metadata": {},
   "outputs": [
    {
     "name": "stdout",
     "output_type": "stream",
     "text": [
      "Modelo salvo com sucesso em 'serie_temporal.pkl'\n"
     ]
    }
   ],
   "source": [
    "import joblib\n",
    "# Salvar o modelo treinado em um arquivo .pkl\n",
    "joblib.dump(modelo, 'serie_temporal.pkl')\n",
    "print(\"Modelo salvo com sucesso em 'serie_temporal.pkl'\")"
   ]
  },
  {
   "cell_type": "markdown",
   "id": "fbb0c4b1",
   "metadata": {},
   "source": [
    "1. **O que é uma série temporal?**  \n",
    "   É uma sequência de dados organizados no tempo. Aqui, cada ponto representa as vendas em uma semana.\n",
    "\n",
    "2. **O que o código faz?**  \n",
    "   - Cria dados fictícios de vendas para 20 semanas.\n",
    "   - Usa o índice de datas para indicar quando cada venda aconteceu.\n",
    "   - Aplica o modelo Holt-Winters, que serve para prever valores futuros em séries temporais considerando tendência (crescimento ou queda ao longo do tempo).\n",
    "   - Ajusta o modelo aos dados históricos.\n",
    "   - Faz uma previsão das vendas para as próximas 4 semanas.\n",
    "\n",
    "3. **Resumo:**  \n",
    "   O código simula vendas semanais, aprende o padrão dessas vendas e prevê como serão as próximas 4 semanas.  \n",
    "   O modelo usado é simples, mas muito útil para prever séries temporais que apresentam tendência."
   ]
  }
 ],
 "metadata": {
  "kernelspec": {
   "display_name": "Python 3",
   "language": "python",
   "name": "python3"
  },
  "language_info": {
   "codemirror_mode": {
    "name": "ipython",
    "version": 3
   },
   "file_extension": ".py",
   "mimetype": "text/x-python",
   "name": "python",
   "nbconvert_exporter": "python",
   "pygments_lexer": "ipython3",
   "version": "3.12.3"
  }
 },
 "nbformat": 4,
 "nbformat_minor": 5
}
