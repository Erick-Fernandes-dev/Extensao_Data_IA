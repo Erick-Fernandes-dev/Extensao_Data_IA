{
 "cells": [
  {
   "cell_type": "code",
   "execution_count": 1,
   "id": "74465e00-82da-41ce-b9f1-7d69b3a316b3",
   "metadata": {},
   "outputs": [],
   "source": [
    "# import das bibliotecas.\n",
    "import pandas as pd\n",
    "import random\n",
    "from datetime import datetime, timedelta"
   ]
  },
  {
   "cell_type": "code",
   "execution_count": 2,
   "id": "5161c268-c1ba-4972-a6b3-dc4015cae88c",
   "metadata": {},
   "outputs": [
    {
     "name": "stdout",
     "output_type": "stream",
     "text": [
      "Arquivo CSV gerado com sucesso! Produtos\n",
      "Arquivo CSV gerado com sucesso! - Localizações\n"
     ]
    }
   ],
   "source": [
    "# Gerar dados de exemplo para a dimensão de produtos\n",
    "produtos = [\n",
    "    {'ID_Produto': 1, 'Nome_Produto': 'Arroz', 'Categoria': 'Alimentos', 'Marca': 'Marca A'},\n",
    "    {'ID_Produto': 2, 'Nome_Produto': 'Feijão', 'Categoria': 'Alimentos', 'Marca': 'Marca B'},\n",
    "    {'ID_Produto': 3, 'Nome_Produto': 'Coca-Cola', 'Categoria': 'Bebidas', 'Marca': 'Marca C'}\n",
    "]\n",
    "\n",
    "# Criando DataFrame para a tabela de vendas\n",
    "df_produtos = pd.DataFrame(produtos)\n",
    "\n",
    "# Salvando em arquivo CSV\n",
    "df_produtos.to_csv('dim_produtos.csv', index=False)\n",
    "\n",
    "print(\"Arquivo CSV gerado com sucesso! Produtos\")\n",
    "\n",
    "\n",
    "\n",
    "# Gerar dados de exemplo para a dimensão de localizações\n",
    "localizacoes = [\n",
    "    {'ID_Localizacao': 1, 'Cidade': 'São Paulo', 'Estado': 'SP', 'País': 'Brasil'},\n",
    "    {'ID_Localizacao': 2, 'Cidade': 'Rio de Janeiro', 'Estado': 'RJ', 'País': 'Brasil'},\n",
    "    {'ID_Localizacao': 3, 'Cidade': 'Curitiba', 'Estado': 'PR', 'País': 'Brasil'}\n",
    "]\n",
    "\n",
    "\n",
    "# Criando DataFrame para a tabela de vendas\n",
    "df_localizacoes = pd.DataFrame(localizacoes)\n",
    "\n",
    "# Salvando em arquivo CSV\n",
    "df_localizacoes.to_csv('dim_localizacoes.csv', index=False)\n",
    "\n",
    "print(\"Arquivo CSV gerado com sucesso! - Localizações\")\n",
    "\n"
   ]
  },
  {
   "cell_type": "code",
   "execution_count": 13,
   "id": "418c7ceb-1d06-4f7b-8286-39b1914833e6",
   "metadata": {},
   "outputs": [],
   "source": [
    "# Gerar dados de vendas (fato)\n",
    "vendas = []\n",
    "for i in range(100):  # Gerando 100 registros de vendas\n",
    "    venda = {\n",
    "        'ID_Venda': i + 1,\n",
    "        'ID_Produto': random.choice([1, 2, 3]),\n",
    "        'ID_Localizacao': random.choice([1, 2, 3]),\n",
    "        'Quantidade_Vendida': random.randint(1, 10),\n",
    "        'Valor_Venda': random.uniform(10, 500),\n",
    "        'Data_Venda': (datetime.today() - timedelta(days=random.randint(0, 365))).strftime('%Y-%m-%d')\n",
    "    }\n",
    "    vendas.append(venda)\n"
   ]
  },
  {
   "cell_type": "code",
   "execution_count": 17,
   "id": "99cfae58-6d1e-4b38-92b7-87b650e8b127",
   "metadata": {},
   "outputs": [
    {
     "name": "stdout",
     "output_type": "stream",
     "text": [
      "Arquivo CSV gerado com sucesso!\n"
     ]
    }
   ],
   "source": [
    "# Criando DataFrame para a tabela de vendas\n",
    "df_vendas = pd.DataFrame(vendas)\n",
    "\n",
    "# Salvando em arquivo CSV\n",
    "df_vendas.to_csv('Fato_Vendas.csv', index=False)\n",
    "\n",
    "print(\"Arquivo CSV gerado com sucesso!\")\n"
   ]
  },
  {
   "cell_type": "code",
   "execution_count": null,
   "id": "7826ed7e-02bf-4a2c-89ad-cb33cc5dc049",
   "metadata": {},
   "outputs": [],
   "source": []
  }
 ],
 "metadata": {
  "kernelspec": {
   "display_name": "Python 3",
   "language": "python",
   "name": "python3"
  },
  "language_info": {
   "codemirror_mode": {
    "name": "ipython",
    "version": 3
   },
   "file_extension": ".py",
   "mimetype": "text/x-python",
   "name": "python",
   "nbconvert_exporter": "python",
   "pygments_lexer": "ipython3",
   "version": "3.12.3"
  }
 },
 "nbformat": 4,
 "nbformat_minor": 5
}
