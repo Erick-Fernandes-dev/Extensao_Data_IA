{
 "cells": [
  {
   "cell_type": "code",
   "execution_count": 1,
   "id": "6edf70d4-d2cb-4bb8-8d5f-da8d01385b43",
   "metadata": {},
   "outputs": [
    {
     "name": "stdout",
     "output_type": "stream",
     "text": [
      "Arquivo CSV 'dados_imoveis.csv' gerado com sucesso!\n"
     ]
    }
   ],
   "source": [
    "import pandas as pd\n",
    "import numpy as np\n",
    "\n",
    "# Definir faixas de valores para um conjunto de dados balanceado\n",
    "np.random.seed(42)  # Garantir reprodutibilidade\n",
    "\n",
    "# Gerar 500 registros\n",
    "qtd_quartos = np.random.choice([1, 2, 3, 4, 5], size=500, p=[0.1, 0.25, 0.35, 0.2, 0.1])\n",
    "metros_quadrados = np.random.randint(30, 250, size=500)  # Variando de 30m² a 250m²\n",
    "\n",
    "# Definir um valor base por metro quadrado\n",
    "valor_base_m2 = np.random.uniform(2000, 10000, size=500)\n",
    "\n",
    "# Calcular o valor do imóvel com base nos metros quadrados e um coeficiente pelo número de quartos\n",
    "valor_imovel = metros_quadrados * valor_base_m2 * (1 + (qtd_quartos - 1) * 0.1)\n",
    "\n",
    "# Criar DataFrame\n",
    "df = pd.DataFrame({\n",
    "    'Qtd_Quartos': qtd_quartos,\n",
    "    'Metros_Quadrados': metros_quadrados,\n",
    "    'Valor_Imovel': valor_imovel.round(2)\n",
    "})\n",
    "\n",
    "# Salvar como CSV\n",
    "df.to_csv('dados_imoveis.csv', index=False)\n",
    "\n",
    "print(\"Arquivo CSV 'dados_imoveis.csv' gerado com sucesso!\")\n"
   ]
  },
  {
   "cell_type": "code",
   "execution_count": null,
   "id": "2073581f-e38f-4d89-b7bd-cfda2319e8cb",
   "metadata": {},
   "outputs": [],
   "source": []
  }
 ],
 "metadata": {
  "kernelspec": {
   "display_name": "Python 3 (ipykernel)",
   "language": "python",
   "name": "python3"
  },
  "language_info": {
   "codemirror_mode": {
    "name": "ipython",
    "version": 3
   },
   "file_extension": ".py",
   "mimetype": "text/x-python",
   "name": "python",
   "nbconvert_exporter": "python",
   "pygments_lexer": "ipython3",
   "version": "3.12.4"
  }
 },
 "nbformat": 4,
 "nbformat_minor": 5
}
