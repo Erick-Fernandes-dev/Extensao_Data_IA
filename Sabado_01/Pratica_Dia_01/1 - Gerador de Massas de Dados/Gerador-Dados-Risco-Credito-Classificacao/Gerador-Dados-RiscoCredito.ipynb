{
 "cells": [
  {
   "cell_type": "code",
   "execution_count": 1,
   "id": "48d3f8bc-ef6e-424c-953c-65d2e67b44e8",
   "metadata": {},
   "outputs": [
    {
     "name": "stdout",
     "output_type": "stream",
     "text": [
      "Arquivo CSV 'risco_credito.csv' criado com sucesso!\n"
     ]
    }
   ],
   "source": [
    "import pandas as pd\n",
    "import numpy as np\n",
    "import random\n",
    "\n",
    "# Definir número de registros\n",
    "num_registros = 5000\n",
    "\n",
    "# Gerar dados sintéticos\n",
    "np.random.seed(42)\n",
    "id_cliente = range(1, num_registros + 1)\n",
    "renda_mensal = np.round(np.random.uniform(1000, 20000, num_registros), 2)\n",
    "idade = np.random.randint(18, 75, num_registros)\n",
    "score_credito = np.random.randint(300, 850, num_registros)\n",
    "tempo_emprego = np.round(np.random.uniform(0, 40, num_registros), 1)\n",
    "num_cartoes = np.random.randint(0, 10, num_registros)\n",
    "percentual_comprometido = np.round(np.random.uniform(0, 1, num_registros), 2)\n",
    "pagamentos_atraso = np.random.randint(0, 10, num_registros)\n",
    "valor_divida = np.round(np.random.uniform(0, 50000, num_registros), 2)\n",
    "\n",
    "# Criar variável alvo (risco de crédito: 1 - Positivo, 0 - Negativo)\n",
    "risco_credito = np.where((score_credito > 600) & (pagamentos_atraso < 3) & (percentual_comprometido < 0.4), 1, 0)\n",
    "\n",
    "# Criar DataFrame\n",
    "df = pd.DataFrame({\n",
    "    'id_cliente': id_cliente,\n",
    "    'renda_mensal': renda_mensal,\n",
    "    'idade': idade,\n",
    "    'score_credito': score_credito,\n",
    "    'tempo_emprego': tempo_emprego,\n",
    "    'num_cartoes': num_cartoes,\n",
    "    'percentual_comprometido': percentual_comprometido,\n",
    "    'pagamentos_atraso': pagamentos_atraso,\n",
    "    'valor_divida': valor_divida,\n",
    "    'risco_credito': risco_credito\n",
    "})\n",
    "\n",
    "# Salvar em CSV\n",
    "df.to_csv(\"risco_credito.csv\", index=False)\n",
    "\n",
    "print(\"Arquivo CSV 'risco_credito.csv' criado com sucesso!\")\n"
   ]
  },
  {
   "cell_type": "code",
   "execution_count": null,
   "id": "3735e7cd-a763-4ef2-9b64-350128e4baae",
   "metadata": {},
   "outputs": [],
   "source": []
  }
 ],
 "metadata": {
  "kernelspec": {
   "display_name": "Python 3 (ipykernel)",
   "language": "python",
   "name": "python3"
  },
  "language_info": {
   "codemirror_mode": {
    "name": "ipython",
    "version": 3
   },
   "file_extension": ".py",
   "mimetype": "text/x-python",
   "name": "python",
   "nbconvert_exporter": "python",
   "pygments_lexer": "ipython3",
   "version": "3.12.4"
  }
 },
 "nbformat": 4,
 "nbformat_minor": 5
}
